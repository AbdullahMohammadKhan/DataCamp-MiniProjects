{
 "cells": [
  {
   "cell_type": "markdown",
   "metadata": {
    "dc": {
     "key": "af3ab50ea7"
    },
    "deletable": false,
    "editable": false,
    "run_control": {
     "frozen": true
    },
    "tags": [
     "context"
    ]
   },
   "source": [
    "## 1. Introduction to Baby Names Data\n",
    "<blockquote>\n",
    "  <p>What’s in a name? That which we call a rose, By any other name would smell as sweet.</p>\n",
    "</blockquote>\n",
    "<p>In this project, we will explore a rich dataset of first names of babies born in the US, that spans a period of more than 100 years! This suprisingly simple dataset can help us uncover so many interesting stories, and that is exactly what we are going to be doing. </p>\n",
    "<p>Let us start by reading the data.</p>"
   ]
  },
  {
   "cell_type": "code",
   "execution_count": 1,
   "metadata": {
    "dc": {
     "key": "af3ab50ea7"
    },
    "tags": [
     "sample_code"
    ]
   },
   "outputs": [
    {
     "name": "stdout",
     "output_type": "stream",
     "text": [
      "        name sex  births  year\n",
      "0       Mary   F    7065  1880\n",
      "1       Anna   F    2604  1880\n",
      "2       Emma   F    2003  1880\n",
      "3  Elizabeth   F    1939  1880\n",
      "4     Minnie   F    1746  1880\n"
     ]
    }
   ],
   "source": [
    "# Import modules\n",
    "import pandas as pd\n",
    "\n",
    "# Read names into a dataframe: bnames\n",
    "bnames = pd.read_csv('datasets/names.csv.gz')\n",
    "print(bnames.head())"
   ]
  },
  {
   "cell_type": "code",
   "execution_count": 2,
   "metadata": {
    "dc": {
     "key": "af3ab50ea7"
    },
    "hide": true,
    "tags": [
     "tests"
    ]
   },
   "outputs": [
    {
     "name": "stderr",
     "output_type": "stream",
     "text": [
      "ERROR:root:Cell magic `%%nose` not found.\n"
     ]
    }
   ],
   "source": [
    "%%nose\n",
    "def test_bnames_exists():\n",
    "    \"\"\"bnames is defined.\"\"\"\n",
    "    assert 'bnames' in globals(), \"You should have defined a variable named bnames\"\n",
    "# bnames is a dataframe with 1891894 rows and 4 columns\n",
    "def test_bnames_dataframe():\n",
    "    \"\"\"bnames is a DataFrame with 1891894 rows and 4 columns\"\"\"\n",
    "    import pandas as pd\n",
    "    assert isinstance(bnames, pd.DataFrame)\n",
    "    assert bnames.shape[0] == 1891894, \"Your  DataFrame, bnames, should contain 1891984 rows\"\n",
    "    assert bnames.shape[1] == 4, \"Your DataFrame, bnames, should contain 4 columns\"\n",
    "\n",
    "# bnames has column names ['name', 'sex', 'births', 'year']\n",
    "def test_bnames_colnames():\n",
    "    \"\"\"bnames has column names ['name', 'sex', 'births', 'year']\"\"\"\n",
    "    colnames = ['name', 'sex', 'births', 'year']\n",
    "    assert all(name in bnames for name in colnames), \"Your DataFrame, bnames, should have columns named name, sex, births and year\""
   ]
  },
  {
   "cell_type": "markdown",
   "metadata": {
    "dc": {
     "key": "0bc85b342d"
    },
    "deletable": false,
    "editable": false,
    "run_control": {
     "frozen": true
    },
    "tags": [
     "context"
    ]
   },
   "source": [
    "## 2. Exploring Trends in Names\n",
    "<p>One of the first things we want to do is to understand naming trends. Let us start by figuring out the top five most popular male and female names for this decade (born 2011 and later). Do you want to make any guesses? Go on, be a sport!!</p>"
   ]
  },
  {
   "cell_type": "code",
   "execution_count": 3,
   "metadata": {
    "dc": {
     "key": "0bc85b342d"
    },
    "tags": [
     "sample_code"
    ]
   },
   "outputs": [
    {
     "data": {
      "text/html": [
       "<div>\n",
       "<style>\n",
       "    .dataframe thead tr:only-child th {\n",
       "        text-align: right;\n",
       "    }\n",
       "\n",
       "    .dataframe thead th {\n",
       "        text-align: left;\n",
       "    }\n",
       "\n",
       "    .dataframe tbody tr th {\n",
       "        vertical-align: top;\n",
       "    }\n",
       "</style>\n",
       "<table border=\"1\" class=\"dataframe\">\n",
       "  <thead>\n",
       "    <tr style=\"text-align: right;\">\n",
       "      <th></th>\n",
       "      <th>sex</th>\n",
       "      <th>name</th>\n",
       "      <th>births</th>\n",
       "    </tr>\n",
       "  </thead>\n",
       "  <tbody>\n",
       "    <tr>\n",
       "      <th>0</th>\n",
       "      <td>F</td>\n",
       "      <td>Emma</td>\n",
       "      <td>121375</td>\n",
       "    </tr>\n",
       "    <tr>\n",
       "      <th>1</th>\n",
       "      <td>F</td>\n",
       "      <td>Sophia</td>\n",
       "      <td>117352</td>\n",
       "    </tr>\n",
       "    <tr>\n",
       "      <th>2</th>\n",
       "      <td>F</td>\n",
       "      <td>Olivia</td>\n",
       "      <td>111691</td>\n",
       "    </tr>\n",
       "    <tr>\n",
       "      <th>3</th>\n",
       "      <td>F</td>\n",
       "      <td>Isabella</td>\n",
       "      <td>103947</td>\n",
       "    </tr>\n",
       "    <tr>\n",
       "      <th>4</th>\n",
       "      <td>F</td>\n",
       "      <td>Ava</td>\n",
       "      <td>94507</td>\n",
       "    </tr>\n",
       "  </tbody>\n",
       "</table>\n",
       "</div>"
      ],
      "text/plain": [
       "  sex      name  births\n",
       "0   F      Emma  121375\n",
       "1   F    Sophia  117352\n",
       "2   F    Olivia  111691\n",
       "3   F  Isabella  103947\n",
       "4   F       Ava   94507"
      ]
     },
     "execution_count": 3,
     "metadata": {},
     "output_type": "execute_result"
    }
   ],
   "source": [
    "# bnames_top5: A dataframe with top 5 popular male and female names for the decade\n",
    "b1 = bnames[['sex','name','births']][(bnames.year>=2011)&(bnames.sex=='F')]\n",
    "b2 = b1.groupby(['sex','name']).agg('sum').sort_values('births',ascending=False).head(5).reset_index()\n",
    "c1 = bnames[['sex','name','births']][(bnames.year>=2011)&(bnames.sex=='M')]\n",
    "c2 = c1.groupby(['sex','name']).agg('sum').sort_values('births',ascending=False).head(5).reset_index()\n",
    "bnames_top5 = b2.append(c2)\n",
    "bnames_top5.head()"
   ]
  },
  {
   "cell_type": "code",
   "execution_count": 4,
   "metadata": {
    "dc": {
     "key": "0bc85b342d"
    },
    "hide": true,
    "tags": [
     "tests"
    ]
   },
   "outputs": [
    {
     "name": "stderr",
     "output_type": "stream",
     "text": [
      "ERROR:root:Cell magic `%%nose` not found.\n"
     ]
    }
   ],
   "source": [
    "%%nose\n",
    "def test_bnames_top5_exists():\n",
    "    \"\"\"bnames_top5 is defined.\"\"\"\n",
    "    assert 'bnames_top5' in globals(), \\\n",
    "      \"You should have defined a variable named bnames_top5.\"\n",
    "\n",
    "def test_bnames_top5_df():\n",
    "    \"\"\"Output is a DataFrame with 10 rows and 3 columns.\"\"\"\n",
    "    assert bnames_top5.shape == (10, 3), \\\n",
    "      \"Your DataFrame, bnames_top5, should have 10 rows and 3 columns.\"\n",
    "\n",
    "def test_bnames_top5_df_colnames():\n",
    "    \"\"\"Output has column names: name, sex, births.\"\"\"\n",
    "    assert all(name in bnames_top5 for name in ['name', 'sex', 'births']), \\\n",
    "      \"Your DataFrame, bnames_top5 should have columns named name, sex, births.\"\n",
    "\n",
    "def test_bnames_top5_df_contains_names():\n",
    "    \"\"\"Output has the follwing female names: Emma, Sophia, Olivia, Isabella, Ava\"\"\"\n",
    "    target_names = ['Emma', 'Sophia', 'Olivia', 'Isabella', 'Ava']\n",
    "    assert set(target_names).issubset(bnames_top5['name']), \\\n",
    "      \"Your DataFrame, bnames_top5 should contain the female names: Emma, Sophia, Olivia, Isabella, Ava\"\n",
    "\n",
    "def test_bnames_top5_df_contains_female_names():\n",
    "    \"\"\"Output has the following male names: Noah, Mason, Jacob, Liam, William\"\"\"\n",
    "    target_names = ['Noah', 'Mason', 'Jacob', 'Liam', 'William']\n",
    "    assert set(target_names).issubset(bnames_top5['name']), \\\n",
    "      \"Your DataFrame, bnames_top5 should contain the male names: Noah, Mason, Jacob, Liam, William\""
   ]
  },
  {
   "cell_type": "markdown",
   "metadata": {
    "dc": {
     "key": "7cca0a6aff"
    },
    "deletable": false,
    "editable": false,
    "run_control": {
     "frozen": true
    },
    "tags": [
     "context"
    ]
   },
   "source": [
    "## 3. Proportion of Births\n",
    "<p>While the number of births is a useful metric, making comparisons across years becomes difficult, as one would have to control for population effects. One way around this is to normalize the number of births by the total number of births in that year.</p>"
   ]
  },
  {
   "cell_type": "code",
   "execution_count": 5,
   "metadata": {
    "dc": {
     "key": "7cca0a6aff"
    },
    "tags": [
     "sample_code"
    ]
   },
   "outputs": [
    {
     "data": {
      "text/html": [
       "<div>\n",
       "<style>\n",
       "    .dataframe thead tr:only-child th {\n",
       "        text-align: right;\n",
       "    }\n",
       "\n",
       "    .dataframe thead th {\n",
       "        text-align: left;\n",
       "    }\n",
       "\n",
       "    .dataframe tbody tr th {\n",
       "        vertical-align: top;\n",
       "    }\n",
       "</style>\n",
       "<table border=\"1\" class=\"dataframe\">\n",
       "  <thead>\n",
       "    <tr style=\"text-align: right;\">\n",
       "      <th></th>\n",
       "      <th>name</th>\n",
       "      <th>sex</th>\n",
       "      <th>births</th>\n",
       "      <th>year</th>\n",
       "      <th>prop_births</th>\n",
       "    </tr>\n",
       "  </thead>\n",
       "  <tbody>\n",
       "    <tr>\n",
       "      <th>0</th>\n",
       "      <td>Mary</td>\n",
       "      <td>F</td>\n",
       "      <td>7065</td>\n",
       "      <td>1880</td>\n",
       "      <td>0.035065</td>\n",
       "    </tr>\n",
       "    <tr>\n",
       "      <th>1</th>\n",
       "      <td>Anna</td>\n",
       "      <td>F</td>\n",
       "      <td>2604</td>\n",
       "      <td>1880</td>\n",
       "      <td>0.012924</td>\n",
       "    </tr>\n",
       "    <tr>\n",
       "      <th>2</th>\n",
       "      <td>Emma</td>\n",
       "      <td>F</td>\n",
       "      <td>2003</td>\n",
       "      <td>1880</td>\n",
       "      <td>0.009941</td>\n",
       "    </tr>\n",
       "    <tr>\n",
       "      <th>3</th>\n",
       "      <td>Elizabeth</td>\n",
       "      <td>F</td>\n",
       "      <td>1939</td>\n",
       "      <td>1880</td>\n",
       "      <td>0.009624</td>\n",
       "    </tr>\n",
       "    <tr>\n",
       "      <th>4</th>\n",
       "      <td>Minnie</td>\n",
       "      <td>F</td>\n",
       "      <td>1746</td>\n",
       "      <td>1880</td>\n",
       "      <td>0.008666</td>\n",
       "    </tr>\n",
       "  </tbody>\n",
       "</table>\n",
       "</div>"
      ],
      "text/plain": [
       "        name sex  births  year  prop_births\n",
       "0       Mary   F    7065  1880     0.035065\n",
       "1       Anna   F    2604  1880     0.012924\n",
       "2       Emma   F    2003  1880     0.009941\n",
       "3  Elizabeth   F    1939  1880     0.009624\n",
       "4     Minnie   F    1746  1880     0.008666"
      ]
     },
     "execution_count": 5,
     "metadata": {},
     "output_type": "execute_result"
    }
   ],
   "source": [
    "bnames2 = bnames.copy()\n",
    "# Compute the proportion of births by year and add it as a new column\n",
    "total_pop = bnames2.groupby('year').sum()\n",
    "bnames2['prop_births'] = bnames2.births / total_pop.loc[bnames2.year].values[0]\n",
    "bnames2.head()"
   ]
  },
  {
   "cell_type": "code",
   "execution_count": 6,
   "metadata": {
    "dc": {
     "key": "7cca0a6aff"
    },
    "hide": true,
    "tags": [
     "tests"
    ]
   },
   "outputs": [
    {
     "name": "stderr",
     "output_type": "stream",
     "text": [
      "ERROR:root:Cell magic `%%nose` not found.\n"
     ]
    }
   ],
   "source": [
    "%%nose\n",
    "def test_bnames2_exists():\n",
    "    \"\"\"bnames2 is defined.\"\"\"\n",
    "    assert 'bnames2' in globals(),\\\n",
    "      \"You should have defined a variable named bnames2.\"\n",
    "    \n",
    "def test_bnames2_dataframe():\n",
    "    \"\"\"bnames2 is a DataFrame with 1891894 rows and 5 columns\"\"\"\n",
    "    import pandas as pd\n",
    "    assert isinstance(bnames2, pd.DataFrame)\n",
    "    assert bnames2.shape[1] == 5,\\\n",
    "      \"Your DataFrame, bnames2, should have 5 columns\"\n",
    "    assert bnames2.shape[0] == 1891894,\\\n",
    "      \"Your DataFrame, bnames2,  should have 1891894 rows\"\n",
    "\n",
    "\n",
    "def test_bnames2_colnames():\n",
    "    \"\"\"bnames2 has column names ['name', 'sex', 'births', 'year', 'prop_births']\"\"\"\n",
    "    colnames = ['name', 'sex', 'births', 'year', 'prop_births']\n",
    "    assert all(name in bnames2 for name in colnames),\\\n",
    "      \"Your DataFrame, bnames2, should have column names 'name', 'sex', 'births', 'year', 'prop_births'\""
   ]
  },
  {
   "cell_type": "markdown",
   "metadata": {
    "dc": {
     "key": "ec03f98f40"
    },
    "deletable": false,
    "editable": false,
    "run_control": {
     "frozen": true
    },
    "tags": [
     "context"
    ]
   },
   "source": [
    "## 4. Popularity of Names\n",
    "<p>Now that we have the proportion of births, let us plot the popularity of a name through the years. How about plotting the popularity of the female names <code>Elizabeth</code>, and <code>Deneen</code>, and inspecting the underlying trends for any interesting patterns!</p>"
   ]
  },
  {
   "cell_type": "code",
   "execution_count": 7,
   "metadata": {
    "dc": {
     "key": "ec03f98f40"
    },
    "tags": [
     "sample_code"
    ]
   },
   "outputs": [
    {
     "name": "stdout",
     "output_type": "stream",
     "text": [
      "Maximum No. of births with the name Elizabeth = 20742\n"
     ]
    },
    {
     "data": {
      "image/png": "[encoded data removed]",
      "text/plain": [
       "<matplotlib.figure.Figure at 0x15e309384a8>"
      ]
     },
     "metadata": {},
     "output_type": "display_data"
    },
    {
     "name": "stdout",
     "output_type": "stream",
     "text": [
      "Maximum No. of births with the name Deneen = 1604\n"
     ]
    },
    {
     "data": {
      "image/png": "[encoded data removed]",
      "text/plain": [
       "<matplotlib.figure.Figure at 0x15e3126c9e8>"
      ]
     },
     "metadata": {},
     "output_type": "display_data"
    }
   ],
   "source": [
    "# Set up matplotlib for plotting in the notebook.\n",
    "%matplotlib inline\n",
    "import matplotlib.pyplot as plt\n",
    "\n",
    "def plot_trends(name, sex):\n",
    "  grp = bnames[(bnames.name==name) & (bnames.sex==sex)].groupby('year').sum()\n",
    "  plt.plot(grp)\n",
    "  plt.xlabel('Year')\n",
    "  plt.ylabel('No. of births/year')\n",
    "  plt.title('No. of births/year for the name ' + name)\n",
    "  print('Maximum No. of births with the name ' + name + ' = {}'.format(grp.max()[0]))\n",
    "  plt.show()\n",
    "  return\n",
    "\n",
    "# Plot trends for Elizabeth and Deneen \n",
    "plot_trends('Elizabeth','F')\n",
    "plot_trends('Deneen','F')\n",
    "\n",
    "# How many times did these female names peak?\n",
    "num_peaks_elizabeth = 3\n",
    "num_peaks_deneen    = 1"
   ]
  },
  {
   "cell_type": "code",
   "execution_count": 8,
   "metadata": {
    "dc": {
     "key": "ec03f98f40"
    },
    "hide": true,
    "tags": [
     "tests"
    ]
   },
   "outputs": [
    {
     "name": "stderr",
     "output_type": "stream",
     "text": [
      "ERROR:root:Cell magic `%%nose` not found.\n"
     ]
    }
   ],
   "source": [
    "%%nose\n",
    "def test_peaks_elizabeth():\n",
    "    \"\"\"The name Elizabeth peaks 3 times.\"\"\"\n",
    "    assert num_peaks_elizabeth == 3, \\\n",
    "      \"The name Elizabeth peaks 3 times\"\n",
    "    \n",
    "def test_peaks_deneen():\n",
    "    \"\"\"The name Deneen peaks 1 time.\"\"\"\n",
    "    assert num_peaks_deneen == 1, \\\n",
    "      \"The name Deneen peaks only once\""
   ]
  },
  {
   "cell_type": "markdown",
   "metadata": {
    "dc": {
     "key": "b56a9fcef5"
    },
    "deletable": false,
    "editable": false,
    "run_control": {
     "frozen": true
    },
    "tags": [
     "context"
    ]
   },
   "source": [
    "## 5. Trendy vs. Stable Names\n",
    "<p>Based on the plots we created earlier, we can see that <strong>Elizabeth</strong> is a fairly stable name, while <strong>Deneen</strong> is not. An interesting question to ask would be what are the top 5 stable and top 5 trendiest names. A stable name is one whose proportion across years does not vary drastically, while a trendy name is one whose popularity peaks for a short period and then dies down. </p>\n",
    "<p>There are many ways to measure trendiness. A simple measure would be to look at the maximum proportion of births for a name, normalized by the sume of proportion of births across years. For example, if the name <code>Joe</code> had the proportions <code>0.1, 0.2, 0.1, 0.1</code>, then the trendiness measure would be <code>0.2/(0.1 + 0.2 + 0.1 + 0.1)</code> which equals <code>0.5</code>.</p>\n",
    "<p>Let us use this idea to figure out the top 10 trendy names in this data set, with at least a 1000 births.</p>"
   ]
  },
  {
   "cell_type": "code",
   "execution_count": 9,
   "metadata": {
    "dc": {
     "key": "b56a9fcef5"
    },
    "tags": [
     "sample_code"
    ]
   },
   "outputs": [
    {
     "ename": "AttributeError",
     "evalue": "'DataFrame' object has no attribute 'sort'",
     "output_type": "error",
     "traceback": [
      "\u001b[1;31m---------------------------------------------------------------------------\u001b[0m",
      "\u001b[1;31mAttributeError\u001b[0m                            Traceback (most recent call last)",
      "\u001b[1;32m<ipython-input-9-7f9065769a9e>\u001b[0m in \u001b[0;36m<module>\u001b[1;34m()\u001b[0m\n\u001b[0;32m      4\u001b[0m \u001b[0mtop10_trendy_names\u001b[0m\u001b[1;33m[\u001b[0m\u001b[1;34m'trendiness'\u001b[0m\u001b[1;33m]\u001b[0m \u001b[1;33m=\u001b[0m \u001b[0mtop10_trendy_names\u001b[0m\u001b[1;33m[\u001b[0m\u001b[1;34m'max'\u001b[0m\u001b[1;33m]\u001b[0m \u001b[1;33m/\u001b[0m \u001b[0mtop10_trendy_names\u001b[0m\u001b[1;33m[\u001b[0m\u001b[1;34m'births'\u001b[0m\u001b[1;33m]\u001b[0m\u001b[1;33m\u001b[0m\u001b[0m\n\u001b[0;32m      5\u001b[0m \u001b[0mtop10_trendy_names\u001b[0m\u001b[1;33m.\u001b[0m\u001b[0mcolumns\u001b[0m\u001b[1;33m=\u001b[0m\u001b[1;33m(\u001b[0m\u001b[1;33m[\u001b[0m\u001b[1;34m'name'\u001b[0m\u001b[1;33m,\u001b[0m\u001b[1;34m'sex'\u001b[0m\u001b[1;33m,\u001b[0m\u001b[1;34m'total'\u001b[0m\u001b[1;33m,\u001b[0m\u001b[1;34m'max'\u001b[0m\u001b[1;33m,\u001b[0m\u001b[1;34m'trendiness'\u001b[0m\u001b[1;33m]\u001b[0m\u001b[1;33m)\u001b[0m\u001b[1;33m\u001b[0m\u001b[0m\n\u001b[1;32m----> 6\u001b[1;33m \u001b[0mtop10_trendy_names\u001b[0m \u001b[1;33m=\u001b[0m \u001b[0mtop10_trendy_names\u001b[0m\u001b[1;33m[\u001b[0m\u001b[0mtop10_trendy_names\u001b[0m\u001b[1;33m.\u001b[0m\u001b[0mtotal\u001b[0m \u001b[1;33m>=\u001b[0m \u001b[1;36m1000\u001b[0m\u001b[1;33m]\u001b[0m\u001b[1;33m.\u001b[0m\u001b[0msort\u001b[0m\u001b[1;33m(\u001b[0m\u001b[1;34m'trendiness'\u001b[0m\u001b[1;33m,\u001b[0m\u001b[0mascending\u001b[0m\u001b[1;33m=\u001b[0m\u001b[1;32mFalse\u001b[0m\u001b[1;33m)\u001b[0m\u001b[1;33m.\u001b[0m\u001b[0mhead\u001b[0m\u001b[1;33m(\u001b[0m\u001b[1;36m10\u001b[0m\u001b[1;33m)\u001b[0m\u001b[1;33m\u001b[0m\u001b[0m\n\u001b[0m\u001b[0;32m      7\u001b[0m \u001b[0mtop10_trendy_names\u001b[0m\u001b[1;33m\u001b[0m\u001b[0m\n",
      "\u001b[1;32mC:\\ProgramData\\Anaconda3\\lib\\site-packages\\pandas\\core\\generic.py\u001b[0m in \u001b[0;36m__getattr__\u001b[1;34m(self, name)\u001b[0m\n\u001b[0;32m   3079\u001b[0m             \u001b[1;32mif\u001b[0m \u001b[0mname\u001b[0m \u001b[1;32min\u001b[0m \u001b[0mself\u001b[0m\u001b[1;33m.\u001b[0m\u001b[0m_info_axis\u001b[0m\u001b[1;33m:\u001b[0m\u001b[1;33m\u001b[0m\u001b[0m\n\u001b[0;32m   3080\u001b[0m                 \u001b[1;32mreturn\u001b[0m \u001b[0mself\u001b[0m\u001b[1;33m[\u001b[0m\u001b[0mname\u001b[0m\u001b[1;33m]\u001b[0m\u001b[1;33m\u001b[0m\u001b[0m\n\u001b[1;32m-> 3081\u001b[1;33m             \u001b[1;32mreturn\u001b[0m \u001b[0mobject\u001b[0m\u001b[1;33m.\u001b[0m\u001b[0m__getattribute__\u001b[0m\u001b[1;33m(\u001b[0m\u001b[0mself\u001b[0m\u001b[1;33m,\u001b[0m \u001b[0mname\u001b[0m\u001b[1;33m)\u001b[0m\u001b[1;33m\u001b[0m\u001b[0m\n\u001b[0m\u001b[0;32m   3082\u001b[0m \u001b[1;33m\u001b[0m\u001b[0m\n\u001b[0;32m   3083\u001b[0m     \u001b[1;32mdef\u001b[0m \u001b[0m__setattr__\u001b[0m\u001b[1;33m(\u001b[0m\u001b[0mself\u001b[0m\u001b[1;33m,\u001b[0m \u001b[0mname\u001b[0m\u001b[1;33m,\u001b[0m \u001b[0mvalue\u001b[0m\u001b[1;33m)\u001b[0m\u001b[1;33m:\u001b[0m\u001b[1;33m\u001b[0m\u001b[0m\n",
      "\u001b[1;31mAttributeError\u001b[0m: 'DataFrame' object has no attribute 'sort'"
     ]
    }
   ],
   "source": [
    "# top10_trendy_names | A Data Frame of the top 10 most trendy names\n",
    "top10_trendy_names = bnames2.groupby(['name','sex'])['births'].sum().reset_index()\n",
    "top10_trendy_names['max'] = (bnames2.groupby(['name','sex'])['births'].max().reset_index())['births']\n",
    "top10_trendy_names['trendiness'] = top10_trendy_names['max'] / top10_trendy_names['births']\n",
    "top10_trendy_names.columns=(['name','sex','total','max','trendiness'])\n",
    "top10_trendy_names = top10_trendy_names[top10_trendy_names.total >= 1000].sort('trendiness',ascending=False).head(10)\n",
    "top10_trendy_names"
   ]
  },
  {
   "cell_type": "code",
   "execution_count": null,
   "metadata": {
    "dc": {
     "key": "b56a9fcef5"
    },
    "hide": true,
    "tags": [
     "tests"
    ]
   },
   "outputs": [],
   "source": [
    "%%nose\n",
    "def test_top10_trendy_names_exists():\n",
    "    \"\"\"top10_trendy_names is defined\"\"\"\n",
    "    assert 'top10_trendy_names' in globals(), \\\n",
    "      \"You should have defined a variable namedtop10_trendy_names.\"\n",
    "def test_top10_trendy_df():\n",
    "    \"\"\"top10_trendy_names is a dataframe with 10 rows and 5 columns.\"\"\"\n",
    "    assert top10_trendy_names.shape == (10, 5), \\\n",
    "      \"Your data frame, top10_trendy_names, should have 10 rows and 5 columns.\"\n",
    "\n",
    "def test_top10_trendy_df_colnames():\n",
    "    \"\"\"top10_trendy_names has column names: name, sex, births, max and trendiness\"\"\"\n",
    "    assert all(name in top10_trendy_names for name in ['name', 'sex', 'total', 'max', 'trendiness']), \\\n",
    "       \"Your data frame, top10_trendy_names, should have column names: name, sex, births, max and trendiness\"\n",
    "\n",
    "def test_top10_trendy_df_contains_female_names():\n",
    "    \"\"\"top10_trendy_names has the follwing female names: Royalty, Kizzy, Aitana, Deneen, Moesha, Marely, Tennille, Kadijah\"\"\"\n",
    "    target_names = ['Royalty', 'Kizzy', 'Aitana', 'Deneen', 'Moesha', 'Marely', 'Tennille', 'Kadijah']\n",
    "    assert set(target_names).issubset(top10_trendy_names['name']), \\\n",
    "      \"Your data frame, top10_trendy_names, should have female names: Royalty, Kizzy, Aitana, Deneen, Moesha, Marely, Tennille, Kadijah.\"\n",
    "\n",
    "def test_top10_trendy_df_contains_male_names():\n",
    "    \"\"\"top10_trendy_names has the following male names: Christop, Kanye\"\"\"\n",
    "    target_names = ['Christop', 'Kanye']\n",
    "    assert set(target_names).issubset(top10_trendy_names['name']), \\\n",
    "      \"Your data frame, top10_trendy_names, should have male names: Christop, Kanye\""
   ]
  },
  {
   "cell_type": "markdown",
   "metadata": {
    "dc": {
     "key": "8beea38403"
    },
    "deletable": false,
    "editable": false,
    "run_control": {
     "frozen": true
    },
    "tags": [
     "context"
    ]
   },
   "source": [
    "## 6. Bring in Mortality Data\n",
    "<p>So, what more is in a name? Well, with some further work, it is possible to predict the age of a person based on the name (Whoa! Really????). For this, we will need actuarial data that can tell us the chances that someone is still alive, based on when they were born. Fortunately, the <a href=\"https://www.ssa.gov/\">SSA</a> provides detailed <a href=\"https://www.ssa.gov/oact/STATS/table4c6.html\">actuarial life tables</a> by birth cohorts.</p>\n",
    "<table>\n",
    "<thead>\n",
    "<tr>\n",
    "<th style=\"text-align:right;\">year</th>\n",
    "<th style=\"text-align:right;\">age</th>\n",
    "<th style=\"text-align:right;\">qx</th>\n",
    "<th style=\"text-align:right;\">lx</th>\n",
    "<th style=\"text-align:right;\">dx</th>\n",
    "<th style=\"text-align:right;\">Lx</th>\n",
    "<th style=\"text-align:right;\">Tx</th>\n",
    "<th style=\"text-align:right;\">ex</th>\n",
    "<th style=\"text-align:left;\">sex</th>\n",
    "</tr>\n",
    "</thead>\n",
    "<tbody>\n",
    "<tr>\n",
    "<td style=\"text-align:right;\">1910</td>\n",
    "<td style=\"text-align:right;\">39</td>\n",
    "<td style=\"text-align:right;\">0.00283</td>\n",
    "<td style=\"text-align:right;\">78275</td>\n",
    "<td style=\"text-align:right;\">222</td>\n",
    "<td style=\"text-align:right;\">78164</td>\n",
    "<td style=\"text-align:right;\">3129636</td>\n",
    "<td style=\"text-align:right;\">39.98</td>\n",
    "<td style=\"text-align:left;\">F</td>\n",
    "</tr>\n",
    "<tr>\n",
    "<td style=\"text-align:right;\">1910</td>\n",
    "<td style=\"text-align:right;\">40</td>\n",
    "<td style=\"text-align:right;\">0.00297</td>\n",
    "<td style=\"text-align:right;\">78053</td>\n",
    "<td style=\"text-align:right;\">232</td>\n",
    "<td style=\"text-align:right;\">77937</td>\n",
    "<td style=\"text-align:right;\">3051472</td>\n",
    "<td style=\"text-align:right;\">39.09</td>\n",
    "<td style=\"text-align:left;\">F</td>\n",
    "</tr>\n",
    "<tr>\n",
    "<td style=\"text-align:right;\">1910</td>\n",
    "<td style=\"text-align:right;\">41</td>\n",
    "<td style=\"text-align:right;\">0.00318</td>\n",
    "<td style=\"text-align:right;\">77821</td>\n",
    "<td style=\"text-align:right;\">248</td>\n",
    "<td style=\"text-align:right;\">77697</td>\n",
    "<td style=\"text-align:right;\">2973535</td>\n",
    "<td style=\"text-align:right;\">38.21</td>\n",
    "<td style=\"text-align:left;\">F</td>\n",
    "</tr>\n",
    "<tr>\n",
    "<td style=\"text-align:right;\">1910</td>\n",
    "<td style=\"text-align:right;\">42</td>\n",
    "<td style=\"text-align:right;\">0.00332</td>\n",
    "<td style=\"text-align:right;\">77573</td>\n",
    "<td style=\"text-align:right;\">257</td>\n",
    "<td style=\"text-align:right;\">77444</td>\n",
    "<td style=\"text-align:right;\">2895838</td>\n",
    "<td style=\"text-align:right;\">37.33</td>\n",
    "<td style=\"text-align:left;\">F</td>\n",
    "</tr>\n",
    "<tr>\n",
    "<td style=\"text-align:right;\">1910</td>\n",
    "<td style=\"text-align:right;\">43</td>\n",
    "<td style=\"text-align:right;\">0.00346</td>\n",
    "<td style=\"text-align:right;\">77316</td>\n",
    "<td style=\"text-align:right;\">268</td>\n",
    "<td style=\"text-align:right;\">77182</td>\n",
    "<td style=\"text-align:right;\">2818394</td>\n",
    "<td style=\"text-align:right;\">36.45</td>\n",
    "<td style=\"text-align:left;\">F</td>\n",
    "</tr>\n",
    "<tr>\n",
    "<td style=\"text-align:right;\">1910</td>\n",
    "<td style=\"text-align:right;\">44</td>\n",
    "<td style=\"text-align:right;\">0.00351</td>\n",
    "<td style=\"text-align:right;\">77048</td>\n",
    "<td style=\"text-align:right;\">270</td>\n",
    "<td style=\"text-align:right;\">76913</td>\n",
    "<td style=\"text-align:right;\">2741212</td>\n",
    "<td style=\"text-align:right;\">35.58</td>\n",
    "<td style=\"text-align:left;\">F</td>\n",
    "</tr>\n",
    "</tbody>\n",
    "</table>\n",
    "<p>You can read the <a href=\"https://www.ssa.gov/oact/NOTES/as120/LifeTables_Body.html\">documentation for the lifetables</a> to understand what the different columns mean. The key column of interest to us is <code>lx</code>, which provides the number of people born in a <code>year</code> who live upto a given <code>age</code>. The probability of being alive can be derived as <code>lx</code> by 100,000. </p>\n",
    "<p>Given that 2016 is the latest year in the baby names dataset, we are interested only in a subset of this data, that will help us answer the question, \"What percentage of people born in Year X are still alive in 2016?\" </p>\n",
    "<p>Let us use this data and plot it to get a sense of the mortality distribution!</p>"
   ]
  },
  {
   "cell_type": "code",
   "execution_count": 10,
   "metadata": {
    "dc": {
     "key": "8beea38403"
    },
    "tags": [
     "sample_code"
    ]
   },
   "outputs": [
    {
     "data": {
      "image/png": "[encoded data removed]",
      "text/plain": [
       "<matplotlib.figure.Figure at 0x15e3184e9b0>"
      ]
     },
     "metadata": {},
     "output_type": "display_data"
    }
   ],
   "source": [
    "# Read lifetables from datasets/lifetables.csv\n",
    "lifetables = pd.read_csv('datasets/lifetables.csv')\n",
    "\n",
    "# Extract subset relevant to those alive in 2016\n",
    "lifetables_2016 = lifetables[(lifetables.year+lifetables.age)==2016]\n",
    "\n",
    "# Plot the mortality distribution: year vs. lx\n",
    "lifetables_2016.plot('lx','year');"
   ]
  },
  {
   "cell_type": "code",
   "execution_count": 11,
   "metadata": {
    "dc": {
     "key": "8beea38403"
    },
    "hide": true,
    "tags": [
     "tests"
    ]
   },
   "outputs": [
    {
     "name": "stderr",
     "output_type": "stream",
     "text": [
      "ERROR:root:Cell magic `%%nose` not found.\n"
     ]
    }
   ],
   "source": [
    "%%nose\n",
    "def test_lifetables_2016_exists():\n",
    "    \"\"\"lifetables_2016 is defined\"\"\"\n",
    "    assert 'lifetables_2016' in globals(), \\\n",
    "      \"You should have defined a variable named lifetables_2016.\"\n",
    "def test_lifetables_2016_df():\n",
    "    \"\"\"Output is a DataFrame with 24 rows and 9 columns.\"\"\"\n",
    "    assert lifetables_2016.shape == (24, 9), \\\n",
    "      \"Your DataFrame, lifetables_2016, should have 24 rows and 9 columns.\"\n",
    "\n",
    "def test_lifetables_2016_df_colnames():\n",
    "    \"\"\"Output has column names: year, age, qx, lx, dx, Lx, Tx, ex, sex\"\"\"\n",
    "    assert all(name in lifetables_2016 for name in ['year', 'age', 'qx', 'lx', 'dx', 'Lx', 'Tx', 'ex', 'sex']), \\\n",
    "      \"Your DataFrame, lifetables_2016, should have columns named: year, age, qx, lx, dx, Lx, Tx, ex, sex.\"\n",
    "\n",
    "def test_lifetables_2016_df_year_plus_age():\n",
    "    \"\"\"Output has the year + age = 2016\"\"\"\n",
    "    assert all(lifetables_2016.year + lifetables_2016.age - 2016 == 0), \\\n",
    "      \"The `year` column and `age` column in `lifetables_2016` should sum up to 2016.\""
   ]
  },
  {
   "cell_type": "markdown",
   "metadata": {
    "dc": {
     "key": "19e120d2df"
    },
    "deletable": false,
    "editable": false,
    "run_control": {
     "frozen": true
    },
    "tags": [
     "context"
    ]
   },
   "source": [
    "## 7. Smoothen the Curve!\n",
    "<p>We are almost there. There is just one small glitch. The cohort life tables are provided only for every decade. In order to figure out the distribution of people alive, we need the probabilities for every year. One way to fill up the gaps in the data is to use some kind of interpolation. Let us keep things simple and use linear interpolation to fill out the gaps in values of <code>lx</code>, between the years <code>1900</code> and <code>2016</code>.</p>"
   ]
  },
  {
   "cell_type": "code",
   "execution_count": 12,
   "metadata": {
    "dc": {
     "key": "19e120d2df"
    },
    "tags": [
     "sample_code"
    ]
   },
   "outputs": [
    {
     "data": {
      "text/html": [
       "<div>\n",
       "<style>\n",
       "    .dataframe thead tr:only-child th {\n",
       "        text-align: right;\n",
       "    }\n",
       "\n",
       "    .dataframe thead th {\n",
       "        text-align: left;\n",
       "    }\n",
       "\n",
       "    .dataframe tbody tr th {\n",
       "        vertical-align: top;\n",
       "    }\n",
       "</style>\n",
       "<table border=\"1\" class=\"dataframe\">\n",
       "  <thead>\n",
       "    <tr style=\"text-align: right;\">\n",
       "      <th></th>\n",
       "      <th>year</th>\n",
       "      <th>lx</th>\n",
       "      <th>sex</th>\n",
       "    </tr>\n",
       "  </thead>\n",
       "  <tbody>\n",
       "    <tr>\n",
       "      <th>0</th>\n",
       "      <td>1900</td>\n",
       "      <td>0.0</td>\n",
       "      <td>F</td>\n",
       "    </tr>\n",
       "    <tr>\n",
       "      <th>1</th>\n",
       "      <td>1901</td>\n",
       "      <td>6.1</td>\n",
       "      <td>F</td>\n",
       "    </tr>\n",
       "    <tr>\n",
       "      <th>2</th>\n",
       "      <td>1902</td>\n",
       "      <td>12.2</td>\n",
       "      <td>F</td>\n",
       "    </tr>\n",
       "    <tr>\n",
       "      <th>3</th>\n",
       "      <td>1903</td>\n",
       "      <td>18.3</td>\n",
       "      <td>F</td>\n",
       "    </tr>\n",
       "    <tr>\n",
       "      <th>4</th>\n",
       "      <td>1904</td>\n",
       "      <td>24.4</td>\n",
       "      <td>F</td>\n",
       "    </tr>\n",
       "  </tbody>\n",
       "</table>\n",
       "</div>"
      ],
      "text/plain": [
       "   year    lx sex\n",
       "0  1900   0.0   F\n",
       "1  1901   6.1   F\n",
       "2  1902  12.2   F\n",
       "3  1903  18.3   F\n",
       "4  1904  24.4   F"
      ]
     },
     "execution_count": 12,
     "metadata": {},
     "output_type": "execute_result"
    }
   ],
   "source": [
    "# Create smoothened lifetable_2016_s by interpolating values of lx\n",
    "ind = [i for i in range(1900,2016)]\n",
    "\n",
    "f = lifetables_2016[lifetables_2016.sex=='F'][['lx','sex','year']]\n",
    "f = f.set_index('year').reindex(ind).interpolate().ffill()\n",
    "\n",
    "m = lifetables_2016[lifetables_2016.sex=='M'][['lx','sex','year']]\n",
    "m = m.set_index('year').reindex(ind).interpolate().ffill()\n",
    "\n",
    "lifetable_2016_s = f.append(m).reset_index()\n",
    "lifetable_2016_s.head()"
   ]
  },
  {
   "cell_type": "code",
   "execution_count": 13,
   "metadata": {
    "dc": {
     "key": "19e120d2df"
    },
    "hide": true,
    "tags": [
     "tests"
    ]
   },
   "outputs": [
    {
     "name": "stderr",
     "output_type": "stream",
     "text": [
      "ERROR:root:Cell magic `%%nose` not found.\n"
     ]
    }
   ],
   "source": [
    "%%nose\n",
    "def test_lifetable_2016_s_exists():\n",
    "    \"\"\"lifetable_2016_s is defined\"\"\"\n",
    "    assert 'lifetable_2016_s' in globals(), \\\n",
    "      \"You should have defined a variable named lifetable_2016_s.\"\n",
    "def test_lifetables_2016_s_df():\n",
    "    \"\"\"lifetable_2016_s is a dataframe with 232 rows and 3 columns.\"\"\"\n",
    "    assert lifetable_2016_s.shape == (232, 3), \\\n",
    "      \"Your DataFrame, lifetable_2016_s, should have 232 rows and 3 columns.\"\n",
    "\n",
    "def test_lifetable_2016_s_df_colnames():\n",
    "    \"\"\"lifetable_2016_s has column names: year, lx, sex\"\"\"\n",
    "    assert all(name in lifetable_2016_s for name in ['year', 'lx', 'sex']), \\\n",
    "      \"Your DataFrame, lifetable_2016_s, should have columns named: year, lx, sex.\""
   ]
  },
  {
   "cell_type": "markdown",
   "metadata": {
    "dc": {
     "key": "8edb689558"
    },
    "deletable": false,
    "editable": false,
    "run_control": {
     "frozen": true
    },
    "tags": [
     "context"
    ]
   },
   "source": [
    "## 8. Distribution of People Alive by Name\n",
    "<p>Now that we have all the required data, we need a few helper functions to help us with our analysis. </p>\n",
    "<p>The first function we will write is <code>get_data</code>,which takes <code>name</code> and <code>sex</code> as inputs and returns a data frame with the distribution of number of births and number of people alive by year.</p>\n",
    "<p>The second function is <code>plot_name</code> which accepts the same arguments as <code>get_data</code>, but returns a line plot of the distribution of number of births, overlaid by an area plot of the number alive by year.</p>\n",
    "<p>Using these functions, we will plot the distribution of births for boys named <strong>Joseph</strong> and girls named <strong>Brittany</strong>.</p>"
   ]
  },
  {
   "cell_type": "code",
   "execution_count": 14,
   "metadata": {
    "dc": {
     "key": "8edb689558"
    },
    "tags": [
     "sample_code"
    ]
   },
   "outputs": [
    {
     "data": {
      "image/png": "[encoded data removed]",
      "text/plain": [
       "<matplotlib.figure.Figure at 0x15e328adfd0>"
      ]
     },
     "metadata": {},
     "output_type": "display_data"
    },
    {
     "data": {
      "image/png": "[encoded data removed]",
      "text/plain": [
       "<matplotlib.figure.Figure at 0x15e316e4c50>"
      ]
     },
     "metadata": {},
     "output_type": "display_data"
    }
   ],
   "source": [
    "import seaborn as sns\n",
    "sns.set()\n",
    "\n",
    "def get_data(name, sex):\n",
    "    m = pd.merge(lifetable_2016_s,bnames,on=['year','sex'])\n",
    "    m['n_alive'] = m['lx'] * m['births'] / 100000\n",
    "    return m[(m.name==name)&(m.sex==sex)]\n",
    "\n",
    "def plot_data(name, sex):\n",
    "    m = get_data(name,sex)\n",
    "    ax=plt.axes()\n",
    "    m[['births']].plot(ax=ax,color='darkblue')\n",
    "    m[['n_alive']].plot(kind='area',ax=ax,alpha=0.5,color='navy')\n",
    "    plt.show();\n",
    "    return \n",
    "    \n",
    "# Plot the distribution of births and number alive for Joseph and Brittany\n",
    "plot_data('Joseph','M')\n",
    "plot_data('Brittany','F')"
   ]
  },
  {
   "cell_type": "code",
   "execution_count": 15,
   "metadata": {
    "dc": {
     "key": "8edb689558"
    },
    "hide": true,
    "tags": [
     "tests"
    ]
   },
   "outputs": [
    {
     "name": "stderr",
     "output_type": "stream",
     "text": [
      "ERROR:root:Cell magic `%%nose` not found.\n"
     ]
    }
   ],
   "source": [
    "%%nose\n",
    "joseph = get_data('Joseph', 'M')\n",
    "def test_joseph_df():\n",
    "    \"\"\"get_data('Joseph', 'M') is a dataframe with 116 rows and 6 columns.\"\"\"\n",
    "    assert joseph.shape == (116, 6), \\\n",
    "      \"Running  get_data('Joseph', 'M') should return a data frame with 116 rows and 6 columns.\"\n",
    "\n",
    "def test_joseph_df_colnames():\n",
    "    \"\"\"get_data('Joseph', 'M') has column names: name, sex, births, year, lx, n_alive\"\"\"\n",
    "    assert all(name in lifetable_2016_s for name in ['year', 'lx', 'sex']), \\\n",
    "      \"Running  get_data('Joseph', 'M') should return a data frame with column names: name, sex, births, year, lx, n_alive\""
   ]
  },
  {
   "cell_type": "markdown",
   "metadata": {
    "dc": {
     "key": "76f2d745c2"
    },
    "deletable": false,
    "editable": false,
    "run_control": {
     "frozen": true
    },
    "tags": [
     "context"
    ]
   },
   "source": [
    "## 9. Estimate Age\n",
    "<p>In this section, we want to figure out the probability that a person with a certain name is alive, as well as the quantiles of their age distribution. In particular, we will estimate the age of a female named <strong>Gertrude</strong>. Any guesses on how old a person with this name is? How about a male named <strong>William</strong>?</p>"
   ]
  },
  {
   "cell_type": "code",
   "execution_count": 16,
   "metadata": {
    "dc": {
     "key": "76f2d745c2"
    },
    "tags": [
     "sample_code"
    ]
   },
   "outputs": [
    {
     "ename": "ModuleNotFoundError",
     "evalue": "No module named 'wquantiles'",
     "output_type": "error",
     "traceback": [
      "\u001b[1;31m---------------------------------------------------------------------------\u001b[0m",
      "\u001b[1;31mModuleNotFoundError\u001b[0m                       Traceback (most recent call last)",
      "\u001b[1;32m<ipython-input-16-e5329deff791>\u001b[0m in \u001b[0;36m<module>\u001b[1;34m()\u001b[0m\n\u001b[0;32m      1\u001b[0m \u001b[1;31m# Import modules\u001b[0m\u001b[1;33m\u001b[0m\u001b[1;33m\u001b[0m\u001b[0m\n\u001b[1;32m----> 2\u001b[1;33m \u001b[1;32mfrom\u001b[0m \u001b[0mwquantiles\u001b[0m \u001b[1;32mimport\u001b[0m \u001b[0mquantile\u001b[0m\u001b[1;33m\u001b[0m\u001b[0m\n\u001b[0m\u001b[0;32m      3\u001b[0m \u001b[1;33m\u001b[0m\u001b[0m\n\u001b[0;32m      4\u001b[0m \u001b[1;31m# Function to estimate age quantiles\u001b[0m\u001b[1;33m\u001b[0m\u001b[1;33m\u001b[0m\u001b[0m\n\u001b[0;32m      5\u001b[0m \u001b[1;32mdef\u001b[0m \u001b[0mestimate_age\u001b[0m\u001b[1;33m(\u001b[0m\u001b[0mname\u001b[0m\u001b[1;33m,\u001b[0m \u001b[0msex\u001b[0m\u001b[1;33m)\u001b[0m\u001b[1;33m:\u001b[0m\u001b[1;33m\u001b[0m\u001b[0m\n",
      "\u001b[1;31mModuleNotFoundError\u001b[0m: No module named 'wquantiles'"
     ]
    }
   ],
   "source": [
    "# Import modules\n",
    "from wquantiles import quantile\n",
    "\n",
    "# Function to estimate age quantiles\n",
    "def estimate_age(name, sex):\n",
    "    data = get_data(name, sex) \n",
    "    qs = [0.75, 0.5, 0.25] \n",
    "    quantiles = [2016 - int(quantile(data.year, data.n_alive, q)) for q in qs] \n",
    "    result = dict(zip(['q25', 'q50', 'q75'], quantiles)) \n",
    "    result['p_alive'] = round(data.n_alive.sum()/data.births.sum()*100, 2) \n",
    "    result['sex'] = sex \n",
    "    result['name'] = name \n",
    "    return pd.Series(result)\n",
    "\n",
    "# Estimate the age of Gertrude\n",
    "print(estimate_age('Gertrude','F'))\n",
    "print(estimate_age('William','M'))"
   ]
  },
  {
   "cell_type": "code",
   "execution_count": null,
   "metadata": {
    "dc": {
     "key": "76f2d745c2"
    },
    "hide": true,
    "tags": [
     "tests"
    ]
   },
   "outputs": [],
   "source": [
    "%%nose\n",
    "gertrude = estimate_age('Gertrude', 'F')\n",
    "def test_gertrude_names():\n",
    "    \"\"\"Series has indices name, p_alive, q25, q50 and q75\"\"\"\n",
    "    expected_names = ['name', 'p_alive', 'q25', 'q50', 'q75']\n",
    "    assert all(name in gertrude.index.values for name in expected_names), \\\n",
    "      \"Your function `estimate_age` should return a series with names: name, p_alive, q25, q50 and q75\"\n",
    "\n",
    "def test_gertrude_q50():\n",
    "    \"\"\"50th Percentile of age for Gertrude is between 75 and 85\"\"\"\n",
    "    assert ((75 < gertrude['q50']) and (gertrude['q50'] < 85)), \\\n",
    "      \"The estimated median age for the name Gertrude should be between 75 and 85.\""
   ]
  },
  {
   "cell_type": "markdown",
   "metadata": {
    "dc": {
     "key": "9f5f6fd409"
    },
    "deletable": false,
    "editable": false,
    "run_control": {
     "frozen": true
    },
    "tags": [
     "context"
    ]
   },
   "source": [
    "## 10. Median Age of Top 10 Female Names\n",
    "<p>In the previous section, we estimated the age of a female named Gertrude. Let's go one step further this time, and compute the 25th, 50th and 75th percentiles of age, and the probability of being alive for the top 10 most common female names of all time. This should give us some interesting insights on how these names stack up in terms of median ages!</p>"
   ]
  },
  {
   "cell_type": "code",
   "execution_count": 71,
   "metadata": {
    "collapsed": true,
    "dc": {
     "key": "9f5f6fd409"
    },
    "tags": [
     "sample_code"
    ]
   },
   "outputs": [],
   "source": [
    "# Create median_ages: DataFrame with Top 10 Female names, \n",
    "#    age percentiles and probability of being alive\n",
    "import numpy as np\n",
    "top_10_female_names = bnames.\\\n",
    "  groupby(['name', 'sex'], as_index = False).\\\n",
    "  agg({'births': np.sum}).\\\n",
    "  sort_values('births', ascending = False).\\\n",
    "  query('sex == \"F\"').\\\n",
    "  head(10).\\\n",
    "  reset_index(drop = True)\n",
    "estimates = pd.concat([estimate_age(name, 'F') for name in top_10_female_names.name], axis = 1)\n",
    "median_ages = estimates.T.sort_values('q50').reset_index(drop = True)"
   ]
  },
  {
   "cell_type": "code",
   "execution_count": 72,
   "metadata": {
    "dc": {
     "key": "9f5f6fd409"
    },
    "hide": true,
    "tags": [
     "tests"
    ]
   },
   "outputs": [
    {
     "data": {
      "application/json": "{\"summary\": {\"errors\": 0, \"tests\": 3, \"failures\": 0}, \"tests\": [{\"message\": \"\", \"name\": \"test_median_ages_exists\", \"success\": true}, {\"message\": \"\", \"name\": \"test_median_ages_df\", \"success\": true}, {\"message\": \"\", \"name\": \"test_median_ages_df_colnames\", \"success\": true}], \"success\": true}"
     },
     "metadata": {},
     "output_type": "display_data"
    },
    {
     "data": {
      "text/plain": [
       "3/3 tests passed\n"
      ]
     },
     "execution_count": 72,
     "metadata": {},
     "output_type": "execute_result"
    }
   ],
   "source": [
    "%%nose\n",
    "def test_median_ages_exists():\n",
    "    \"\"\"median_ages is defined\"\"\"\n",
    "    assert 'median_ages' in globals(), \\\n",
    "      \"You should have a variable named median_ages defined.\"\n",
    "def test_median_ages_df():\n",
    "    \"\"\"median_ages is a dataframe with 10 rows and 6 columns.\"\"\"\n",
    "    assert median_ages.shape == (10, 6), \\\n",
    "      \"Your DataFrame, median_ages, should have 10 rows and 6 columns\"\n",
    "\n",
    "def test_median_ages_df_colnames():\n",
    "    \"\"\"median_ages has column names: name, p_alive, q25, q50, q75 and sex\"\"\"\n",
    "    assert all(name in median_ages for name in ['name', 'p_alive', 'q25', 'q50', 'q75', 'sex']), \\\n",
    "      \"Your DataFrame, median_ages, should have columns named: name, p_alive, q25, q50, q75 and sex\""
   ]
  }
 ],
 "metadata": {
  "kernelspec": {
   "display_name": "Python 3",
   "language": "python",
   "name": "python3"
  },
  "language_info": {
   "codemirror_mode": {
    "name": "ipython",
    "version": 3
   },
   "file_extension": ".py",
   "mimetype": "text/x-python",
   "name": "python",
   "nbconvert_exporter": "python",
   "pygments_lexer": "ipython3",
   "version": "3.6.3"
  }
 },
 "nbformat": 4,
 "nbformat_minor": 2
}
